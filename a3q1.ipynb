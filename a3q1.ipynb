{
 "cells": [
  {
   "cell_type": "markdown",
   "id": "ef015824-d0fb-49d2-84eb-b706ba1be75d",
   "metadata": {},
   "source": [
    "# Assignment 3 Question 1\n",
    "\n",
    "### CO 487/687 Applied Cryptography Fall 2024\n",
    "\n",
    "This Jupyter notebook contains Python 3 code for Assignment 3 Question 1 on \"Symemtric Encryption in Python\".\n",
    "\n",
    "### Documentation\n",
    "\n",
    "- [Python cryptography library](https://cryptography.io/en/latest/)"
   ]
  },
  {
   "cell_type": "markdown",
   "id": "2948cd7d-5ce4-4c02-a6cf-e61c5bf8a673",
   "metadata": {},
   "source": [
    "The following code imports all the required functions for the assignment."
   ]
  },
  {
   "cell_type": "code",
   "execution_count": 10,
   "id": "9b7a43a4-5b20-4257-9df6-06784f4e604c",
   "metadata": {},
   "outputs": [],
   "source": [
    "import base64\n",
    "import getpass\n",
    "import json\n",
    "import os\n",
    "import sys\n",
    "from cryptography.hazmat.primitives import hashes, hmac\n",
    "from cryptography.hazmat.primitives.kdf.scrypt import Scrypt\n",
    "from cryptography.hazmat.primitives.ciphers import Cipher, algorithms, modes    \n",
    "from cryptography.hazmat.primitives import padding\n",
    "from cryptography.hazmat.primitives import constant_time\n",
    "from timeit import default_timer as timer\n",
    "from cryptography.exceptions import InvalidSignature"
   ]
  },
  {
   "cell_type": "markdown",
   "id": "2006d7f1-e4a6-4fec-acf8-4aa4edc0786c",
   "metadata": {},
   "source": [
    "Sometimes you need to convert between printable strings and byte arrays, because cryptographic routines often work with byte arrays. \n",
    "\n",
    "If you need to take a user-supplied string (like a message or a password) and convert it into a byte array, you can do so like this:"
   ]
  },
  {
   "cell_type": "code",
   "execution_count": 11,
   "id": "8ca81847-9570-4569-9068-e0a91839fbcb",
   "metadata": {},
   "outputs": [
    {
     "name": "stdout",
     "output_type": "stream",
     "text": [
      "Hello, world!\n"
     ]
    }
   ],
   "source": [
    "message = \"Hello, world!\"\n",
    "message_as_byte_array = message.encode('utf-8')\n",
    "message_back_to_string = message_as_byte_array.decode('utf-8')\n",
    "print(message_back_to_string)"
   ]
  },
  {
   "cell_type": "markdown",
   "id": "93fedfa1-1843-4e76-b3fa-562ee30d39b7",
   "metadata": {},
   "source": [
    "If you need to take byte array (such as a cryptographic key or hash output or ciphertext) and convert it to a string for printing, and then convert that string back to a byte array, you can use the following functions:"
   ]
  },
  {
   "cell_type": "code",
   "execution_count": 12,
   "id": "a4219e0e-2bf4-4488-82f2-43a6fcf6374c",
   "metadata": {},
   "outputs": [
    {
     "name": "stdout",
     "output_type": "stream",
     "text": [
      "ASNFZ4mrze8=\n"
     ]
    }
   ],
   "source": [
    "def bytes2string(b):\n",
    "    return base64.urlsafe_b64encode(b).decode('utf-8')\n",
    "\n",
    "def string2bytes(s):\n",
    "    return base64.urlsafe_b64decode(s.encode('utf-8'))\n",
    "\n",
    "sample_byte_array = b'\\x01\\x23\\x45\\x67\\x89\\xAB\\xCD\\xEF'\n",
    "sample_encoded_as_string = bytes2string(sample_byte_array)\n",
    "print(sample_encoded_as_string)\n",
    "sample_back_to_byte_array = string2bytes(sample_encoded_as_string)\n",
    "assert sample_back_to_byte_array == sample_byte_array"
   ]
  },
  {
   "cell_type": "markdown",
   "id": "a4774352-9e99-4800-b698-c684f39ec060",
   "metadata": {},
   "source": [
    "Implement the main encryption function below. Your function will take as input a string, and will output a string or dictionary containing all the values needed to decrypt (other than the password, of course). The code below will prompt the user to enter their password during encryption."
   ]
  },
  {
   "cell_type": "code",
   "execution_count": 13,
   "id": "071c13d4-2adc-4038-b6a6-4e4425fa750b",
   "metadata": {},
   "outputs": [],
   "source": [
    "def encrypt(message):\n",
    "    \n",
    "    # encode the string as a byte string, since cryptographic functions usually work on bytes\n",
    "    plaintext = message.encode('utf-8')\n",
    "\n",
    "    # Use getpass to prompt the user for a password\n",
    "    password = getpass.getpass(\"Enter password:\")\n",
    "    password2 = getpass.getpass(\"Enter password again:\")\n",
    "\n",
    "    # Do a quick check to make sure that the password is the same!\n",
    "    if password != password2:\n",
    "        sys.stderr.write(\"Passwords did not match\")\n",
    "        sys.exit()\n",
    "\n",
    "    ### START: This is what you have to change\n",
    "    \n",
    "    # Derive key using Scrypt\n",
    "    salt = os.urandom(16)\n",
    "    kdf = Scrypt(\n",
    "        salt=salt,\n",
    "        length=32,\n",
    "        n=2**14,\n",
    "        r=8,\n",
    "        p=1\n",
    "    )\n",
    "    key = kdf.derive(password.encode('utf-8'))\n",
    "\n",
    "    # Initialize AES in cipher feedback mode\n",
    "    iv = os.urandom(16)\n",
    "    cipher = Cipher(algorithms.AES(key), modes.CFB(iv))\n",
    "    encryptor = cipher.encryptor()\n",
    "\n",
    "    # Encrypt the plaintext\n",
    "    ciphertext = encryptor.update(plaintext) + encryptor.finalize()\n",
    "\n",
    "    # Create HMAC for integrity\n",
    "    h = hmac.HMAC(key, hashes.SHA3_512())\n",
    "    h.update(ciphertext)\n",
    "    hmac_tag = h.finalize()\n",
    "\n",
    "    # Return all components as a JSON string\n",
    "    return json.dumps({\n",
    "        'salt': bytes2string(salt),\n",
    "        'iv': bytes2string(iv),\n",
    "        'ciphertext': bytes2string(ciphertext),\n",
    "        'hmac': bytes2string(hmac_tag)\n",
    "    })\n",
    "\n",
    "    ### END: This is what you have to change"
   ]
  },
  {
   "cell_type": "markdown",
   "id": "755c486e-533e-45cc-bfb2-84a3639fd7c2",
   "metadata": {},
   "source": [
    "Now we call the `encrypt` function with a message, and print out the ciphertext it generates."
   ]
  },
  {
   "cell_type": "code",
   "execution_count": 14,
   "id": "90218d89-3d57-4790-9b0c-d42a99b6a0e8",
   "metadata": {},
   "outputs": [
    {
     "name": "stdout",
     "output_type": "stream",
     "text": [
      "{\"salt\": \"HUJ0WD8shToXNz02mj72wA==\", \"iv\": \"ZFDCZsjYO7VaCZVzLiEyEg==\", \"ciphertext\": \"plkk4hbf7yROw78HSA==\", \"hmac\": \"yfkAkz56andQYc3L3DCZJIeBGIALKRXu4rC913zvh3AYPs96RjLLbSQX-VNrBhiPmkazD2TwiYlpW0nvusR2-w==\"}\n"
     ]
    }
   ],
   "source": [
    "mymessage = \"Hello, world!\"\n",
    "ciphertext = encrypt(mymessage)\n",
    "print(ciphertext)"
   ]
  },
  {
   "cell_type": "markdown",
   "id": "38ccdb8b-f692-4bea-9da2-4f466be0a931",
   "metadata": {},
   "source": [
    "Implement the main decryption function below.  Your function will take as input the string or dictionary output by `encrypt`, prompt the user to enter the password, and then do all the relevant cryptographic operations."
   ]
  },
  {
   "cell_type": "code",
   "execution_count": 15,
   "id": "7c96fa51-c307-4bd1-bba5-ce53fc4bfc18",
   "metadata": {},
   "outputs": [],
   "source": [
    "def decrypt(ciphertext):\n",
    "    \n",
    "    # prompt the user for the password\n",
    "    password = getpass.getpass(\"Enter the password:\")\n",
    "\n",
    "    ### START: This is what you have to change\n",
    "\n",
    "     # Parse the JSON string to extract the components\n",
    "    data = json.loads(ciphertext)\n",
    "    salt = string2bytes(data['salt'])\n",
    "    iv = string2bytes(data['iv'])\n",
    "    encrypted_text = string2bytes(data['ciphertext'])\n",
    "    hmac_tag = string2bytes(data['hmac'])\n",
    "\n",
    "    # Derive key using Scrypt\n",
    "    kdf = Scrypt(\n",
    "        salt=salt,\n",
    "        length=32,\n",
    "        n=2**14,\n",
    "        r=8,\n",
    "        p=1\n",
    "    )\n",
    "    key = kdf.derive(password.encode('utf-8'))\n",
    "\n",
    "    # Verify HMAC for integrity\n",
    "    h = hmac.HMAC(key, hashes.SHA3_512())\n",
    "    h.update(encrypted_text)\n",
    "    try:\n",
    "        h.verify(hmac_tag)\n",
    "    except InvalidSignature:\n",
    "        sys.stderr.write(\"Invalid password or tampered data\\n\")\n",
    "        sys.exit()\n",
    "\n",
    "    # Decrypt using AES in CFB mode\n",
    "    cipher = Cipher(algorithms.AES(key), modes.CFB(iv))\n",
    "    decryptor = cipher.decryptor()\n",
    "    plaintext = decryptor.update(encrypted_text) + decryptor.finalize()\n",
    "\n",
    "    # Return the decoded plaintext\n",
    "    return plaintext.decode('utf-8')"
   ]
  },
  {
   "cell_type": "markdown",
   "id": "ef3bd698-cecd-489e-a19d-73e964bb598d",
   "metadata": {},
   "source": [
    "Now let's try decrypting the ciphertext you encrypted above by entering the same password as you used for encryption."
   ]
  },
  {
   "cell_type": "code",
   "execution_count": 16,
   "id": "3af449da-3d2e-48cf-a0e7-8ffcd4a3434f",
   "metadata": {},
   "outputs": [
    {
     "name": "stdout",
     "output_type": "stream",
     "text": [
      "Hello, world!\n"
     ]
    }
   ],
   "source": [
    "mymessagedecrypted = decrypt(ciphertext)\n",
    "print(mymessagedecrypted)\n",
    "assert mymessagedecrypted == mymessage"
   ]
  },
  {
   "cell_type": "markdown",
   "id": "b677baa9-72fe-4b4d-9253-5b920bfc27ee",
   "metadata": {},
   "source": [
    "Try again but this time see what happens if you use a different password to decrypt. Your function should fail."
   ]
  },
  {
   "cell_type": "code",
   "execution_count": 17,
   "id": "5005c99d-00bf-4746-8e5c-f075f756aea2",
   "metadata": {},
   "outputs": [
    {
     "name": "stdout",
     "output_type": "stream",
     "text": [
      "Hello, world!\n"
     ]
    }
   ],
   "source": [
    "mymessagedecrypted = decrypt(ciphertext)\n",
    "print(mymessagedecrypted)\n",
    "assert mymessagedecrypted == mymessage"
   ]
  },
  {
   "cell_type": "markdown",
   "id": "8a4f5417-e1bd-4712-b0c0-35d4c50073c9",
   "metadata": {},
   "source": [
    "If you would like to measure the runtime of a particular operation, you can use the following snippit of code:"
   ]
  },
  {
   "cell_type": "code",
   "execution_count": 18,
   "id": "ee63034a-a9ca-4c9a-bda8-56b9fd5db7d5",
   "metadata": {},
   "outputs": [
    {
     "ename": "NameError",
     "evalue": "name 'YOUR_OPERATION_HERE' is not defined",
     "output_type": "error",
     "traceback": [
      "\u001b[1;31m---------------------------------------------------------------------------\u001b[0m",
      "\u001b[1;31mNameError\u001b[0m                                 Traceback (most recent call last)",
      "Cell \u001b[1;32mIn[18], line 2\u001b[0m\n\u001b[0;32m      1\u001b[0m start \u001b[38;5;241m=\u001b[39m timer()\n\u001b[1;32m----> 2\u001b[0m \u001b[43mYOUR_OPERATION_HERE\u001b[49m()\n\u001b[0;32m      3\u001b[0m end \u001b[38;5;241m=\u001b[39m timer()\n\u001b[0;32m      4\u001b[0m \u001b[38;5;28mprint\u001b[39m(\u001b[38;5;124mf\u001b[39m\u001b[38;5;124m\"\u001b[39m\u001b[38;5;124mruntime: \u001b[39m\u001b[38;5;132;01m{\u001b[39;00mend\u001b[38;5;241m-\u001b[39mstart\u001b[38;5;132;01m}\u001b[39;00m\u001b[38;5;124m seconds\u001b[39m\u001b[38;5;124m\"\u001b[39m)\n",
      "\u001b[1;31mNameError\u001b[0m: name 'YOUR_OPERATION_HERE' is not defined"
     ]
    }
   ],
   "source": [
    "start = timer()\n",
    "YOUR_OPERATION_HERE()\n",
    "end = timer()\n",
    "print(f\"runtime: {end-start} seconds\")"
   ]
  }
 ],
 "metadata": {
  "kernelspec": {
   "display_name": "Python 3",
   "language": "python",
   "name": "python3"
  },
  "language_info": {
   "codemirror_mode": {
    "name": "ipython",
    "version": 3
   },
   "file_extension": ".py",
   "mimetype": "text/x-python",
   "name": "python",
   "nbconvert_exporter": "python",
   "pygments_lexer": "ipython3",
   "version": "3.11.9"
  }
 },
 "nbformat": 4,
 "nbformat_minor": 5
}
