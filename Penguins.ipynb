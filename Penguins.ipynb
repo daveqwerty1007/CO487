{
 "cells": [
  {
   "cell_type": "markdown",
   "id": "d5ad5136-b801-46b6-8d3f-c9344270957e",
   "metadata": {},
   "source": [
    "# A2Q2: Penguin or not a penguin?\n",
    "\n",
    "In this question, we will work with .ppm image files. More common formats like JPEG or PNG images are either lossy or use compression (or both), and dealing with that is completely irrelevant to the cryptography in the question, and is also tedious and annoying. PPM files are good for this question because they are uncompressed, lossless bitmap files, making it easy to see patterns that may emerge when images are improperly encrypted.\n",
    "\n",
    "In this Jupyter notebook, we provide you with functions that do all of the image processing and displaying for you. Note that some operating systems do not have built-in programs for viewing .ppm image files (macOS does, Windows does not). For this reason, to view your encrypted (or decrypted) images, it may be easiest to use the `display_image()` function provided in this notebook. To do this, open up a new cell and type `display_image(\"file_name.ppm\")`"
   ]
  },
  {
   "cell_type": "code",
   "execution_count": null,
   "id": "98142311-afbf-4a22-bcd7-7c2b1168b559",
   "metadata": {},
   "outputs": [],
   "source": [
    "import cv2\n",
    "import matplotlib.pyplot as plt\n",
    "import os\n",
    "from cryptography.hazmat.primitives.ciphers import Cipher, algorithms, modes\n",
    "from cryptography.hazmat.primitives import padding"
   ]
  },
  {
   "cell_type": "markdown",
   "id": "82394d91-85ba-4f07-b04d-7c91d9032e8f",
   "metadata": {},
   "source": [
    "## Reading and writing image files\n",
    "\n",
    "First, we need to be able to read in .ppm files. A .ppm file consists of a header and image data. The header is on the first three lines of the file. The first line contains the \"magic number\" (in our case, P6), which determines the file type. The second line contains the width and length of the image, in number of pixels. The third line consists of an integer between 0 and 255, which represents the maximal value that each component of an RGB value can take.\n",
    "\n",
    "When given the name of an existing .ppm file (in the correct directory), the following `read_in_image` function parses out the header, and returns both the header and the image data. All are given as bytestrings. For this question, you will only ever need to work with the image data. The header is only included because it needs to be written back to the encryption/decryption of a .ppm file for formatting reasons."
   ]
  },
  {
   "cell_type": "code",
   "execution_count": null,
   "id": "4e22c7ec-8420-4aa8-b328-9ea7a8dfdb63",
   "metadata": {},
   "outputs": [],
   "source": [
    "def read_in_image(filename):\n",
    "    with open(filename, \"rb\") as fhin:\n",
    "        header1 = fhin.readline()\n",
    "        header2 = fhin.readline()\n",
    "        header3 = fhin.readline()\n",
    "        image = fhin.read()\n",
    "    return (header1, header2, header3, image)"
   ]
  },
  {
   "cell_type": "markdown",
   "id": "07afd4a7-7194-4b9f-b25c-a8aa7ad2ae6e",
   "metadata": {},
   "source": [
    "We also need to be able to write .ppm files. The following `write_ppm_file` function does exactly that: when given a file name, the three header lines (the exact same ones, in the same order, that are output from the `read_in_image` function), and a bytestring consisting of image data, it formats these into a .ppm file with the given file name."
   ]
  },
  {
   "cell_type": "code",
   "execution_count": null,
   "id": "ecf63b19-c6f0-4d01-b79f-8a43e42580c2",
   "metadata": {},
   "outputs": [],
   "source": [
    "def write_ppm_file(filename, header1, header2, header3, image):\n",
    "    with open(filename, 'wb') as fhout:\n",
    "        fhout.write(header1)\n",
    "        fhout.write(header2)\n",
    "        fhout.write(header3)\n",
    "        fhout.write(image)"
   ]
  },
  {
   "cell_type": "markdown",
   "id": "583dd16d-491c-4120-b769-38481458fcfa",
   "metadata": {},
   "source": [
    "Finally, we need a way to display images. The following `display_image` function does that. When given the name of a .ppm file in the correct directory, this function displays the image encoded in the file."
   ]
  },
  {
   "cell_type": "code",
   "execution_count": null,
   "id": "f66b1734-cec4-480d-81aa-a8913ff0d184",
   "metadata": {},
   "outputs": [],
   "source": [
    "def display_image(image_name):\n",
    "    img = cv2.imread(image_name)\n",
    "    img = cv2.cvtColor(img,cv2.COLOR_BGR2RGB)\n",
    "    plt.imshow(img)\n",
    "    plt.show()"
   ]
  },
  {
   "cell_type": "markdown",
   "id": "f67560fb-b0bf-46a7-a5ea-81e88b8e6eef",
   "metadata": {},
   "source": [
    "Let's view one of your image files: (make sure you've uploaded your 4 .ppm files to this Jupyter server)"
   ]
  },
  {
   "cell_type": "code",
   "execution_count": null,
   "id": "2dc68464-904a-4f3f-9a57-116b2d6b4e37",
   "metadata": {},
   "outputs": [],
   "source": [
    "display_image(\"image1.ppm\")"
   ]
  },
  {
   "cell_type": "markdown",
   "id": "a132a80d-dbbd-4817-b397-353cf281161b",
   "metadata": {},
   "source": [
    "## Basic encryption functions\n",
    "\n",
    "Now we will see some basic encryption functions that you can use without having to worry too much about how to use the cryptography library in Python.\n",
    "\n",
    "The following function `AES_encrypt_one_block` uses AES to encrypt a single message block. It takes in a 256-bit (32 byte) key and a 128-bit (16 byte) message block and outputs a 128-bit (16 byte) ciphertext. The key, message, and ciphertext are all formatted as bytestrings. This is the block cipher that will be used as the basis for the modes of operation which are implemented below.\n",
    "\n",
    "Note: If you look closely, you'll see that we are running the library implementation of AES in ECB mode. This is because running ECB mode on a single block is exactly the same as running the one-block version of a single block. We're doing it this way because this is the easiest way to access it from the library. This is unimportant and will not affect your work."
   ]
  },
  {
   "cell_type": "code",
   "execution_count": null,
   "id": "082fab3e-2eb4-475e-94d8-1a75ac4838a2",
   "metadata": {},
   "outputs": [],
   "source": [
    "def AES_encrypt_one_block(key, block):\n",
    "    cipher = Cipher(algorithms.AES(key), modes.ECB())\n",
    "    encryptor = cipher.encryptor()\n",
    "    ct = encryptor.update(block) + encryptor.finalize()\n",
    "    return ct"
   ]
  },
  {
   "cell_type": "markdown",
   "id": "c57317d2-73d9-4ec9-9c03-9c727e3ce773",
   "metadata": {},
   "source": [
    "The following function `AES_decrypt_one_block` uses AES to decrypt a single message block. It takes in a 256-bit (32 byte) key and a 128-bit (16 byte) ciphertext block and outputs a 128-bit (16 byte) message block. The key, message, and ciphertext are all formatted as bytestrings. If you write your own decryption algorithm for one of the modes of operation below, this is the block cipher decryption function you should use."
   ]
  },
  {
   "cell_type": "code",
   "execution_count": null,
   "id": "320e2822-17a0-460e-8fed-8a5b79e07494",
   "metadata": {},
   "outputs": [],
   "source": [
    "def AES_decrypt_one_block(key, block):\n",
    "    cipher = Cipher(algorithms.AES(key), modes.ECB())\n",
    "    decryptor = cipher.decryptor()\n",
    "    pt = decryptor.update(block) + decryptor.finalize()\n",
    "    return pt"
   ]
  },
  {
   "cell_type": "markdown",
   "id": "8042a783-82af-49cb-9dd1-b7e4648c9b50",
   "metadata": {},
   "source": [
    "Recall that when using a block cipher, the length of the message needs to be an integer number of blocks. If this is not the case, then a padding scheme is applied to the message to elongate it. In particular, this must be done to the image data before it can be encrypted. This function adds padding to a given bytestring in accordance to the PKCS7 padding scheme. The details of how that works are not important for this question: the only thing you will need to do in regards to padding is call either this function (to add padding) or the next function (to remove padding)."
   ]
  },
  {
   "cell_type": "code",
   "execution_count": null,
   "id": "0edd8001-6f13-4e55-8fb4-a79fe2f5389a",
   "metadata": {},
   "outputs": [],
   "source": [
    "def add_padding(data):\n",
    "    padder = padding.PKCS7(128).padder()\n",
    "    padded_data = padder.update(data)\n",
    "    padded_data += padder.finalize()\n",
    "    return padded_data"
   ]
  },
  {
   "cell_type": "markdown",
   "id": "d366894a-cb86-4a16-a006-d1a96f98508c",
   "metadata": {},
   "source": [
    "This function removes padding from a bytestring that has been padded in accordance to the PKCS7 padding scheme. In particular, this must be done to decrypted image data before it can be displayed. "
   ]
  },
  {
   "cell_type": "code",
   "execution_count": null,
   "id": "3cf36566-29d5-4505-ab5d-f557a5b52778",
   "metadata": {},
   "outputs": [],
   "source": [
    "def remove_padding(padded_data):\n",
    "    unpadder = padding.PKCS7(128).unpadder()\n",
    "    data = unpadder.update(padded_data)\n",
    "    data += unpadder.finalize()\n",
    "    return data"
   ]
  },
  {
   "cell_type": "markdown",
   "id": "d6e39be6-a774-46b2-bbc1-598e6bc89724",
   "metadata": {},
   "source": [
    "## Possibly faulty implementations of block cipher modes of operation\n",
    "\n",
    "This is our implementation of the **Electronic Code Book** mode of operation. It may or may not be faulty. It takes in two bytestrings: a 256-bit (32 byte) key and a (padded) message, and outputs the corresponding ciphertext as a bytestring."
   ]
  },
  {
   "cell_type": "code",
   "execution_count": null,
   "id": "77d25309-a178-4933-89f1-12313eadae7f",
   "metadata": {},
   "outputs": [],
   "source": [
    "def ECB_mode(key, padded_data):\n",
    "    ct = b''\n",
    "    for i in range(0, len(padded_data), 16):\n",
    "        ct += AES_encrypt_one_block(key, padded_data[i:i+16])\n",
    "    return ct"
   ]
  },
  {
   "cell_type": "markdown",
   "id": "8e548bc2-7e2f-423b-9445-8c7bc2158b1f",
   "metadata": {},
   "source": [
    "This is our implementation of the **Cipher Block Chaining** mode of operation. It may or may not be faulty. It takes in three bytestrings: a 256-bit (32 byte) key, a 128-bit (16 byte) IV, and a (padded) message, and outputs the corresponding ciphertext as a bytestring.\n",
    "\n",
    "Note: In the course notes, it specifies that the IV is included as the first block of the ciphertext. We don't do that here. This is for a few reasons:\n",
    "\n",
    "1. Including the IV in the ciphertext has no impact on the security of the scheme.\n",
    "2. It makes image encryption/decryption easier if it's not included (less parsing data).\n",
    "3. In real-world implementations, the IV is often not included, for the reasons mentioned above. It is often left to the user to properly transmit IVs when needed."
   ]
  },
  {
   "cell_type": "code",
   "execution_count": null,
   "id": "53c58661-3204-4b2d-a82c-e77c1557cb5f",
   "metadata": {},
   "outputs": [],
   "source": [
    "def CBC_mode(key, iv, padded_data): \n",
    "    ct = b''\n",
    "    for i in range(0, len(padded_data), 16):\n",
    "        inputblock = padded_data[i:i+16]\n",
    "        # Compute x = iv XOR padded_data[i:i+16]\n",
    "        x = bytes(iv[j] ^ inputblock[j] for j in range(0, 16))\n",
    "        iv = AES_encrypt_one_block(iv+iv, x)\n",
    "        ct += iv\n",
    "    return ct"
   ]
  },
  {
   "cell_type": "markdown",
   "id": "12404b2f-1b3e-4d6a-9b77-7c38534cfaa9",
   "metadata": {},
   "source": [
    "This is our implementation of the **Output Feedback** mode of operation. It may or may not be faulty. It takes in two bytestrings: a 256-bit (32 byte) key, a 128-bit (16 byte) IV, and a message, and outputs the corresponding ciphertext as a bytestring.\n",
    "\n",
    "Note: In the course notes, it specifies that the IV is included as the first block of the ciphertext. We don't do that here for the same reasons as noted above for CBC mode."
   ]
  },
  {
   "cell_type": "code",
   "execution_count": null,
   "id": "454637fd-9d60-4c06-8a35-ea4b8bb4dbf3",
   "metadata": {},
   "outputs": [],
   "source": [
    "def OFB_mode(key, iv, padded_data):\n",
    "    ct = b''\n",
    "    x = iv\n",
    "    for i in range(0, len(padded_data), 16):\n",
    "        x = AES_encrypt_one_block(key, x)\n",
    "        ct += bytes(iv[j] ^ x[j] for j in range(0, 16))\n",
    "    return ct"
   ]
  },
  {
   "cell_type": "markdown",
   "id": "1d6b5397-d5fe-44b7-a68b-44f3dd5980f6",
   "metadata": {},
   "source": [
    "This is our implementation of the **Counter** mode of operation. It may or may not be faulty. It takes in two bytestrings: a 256-bit (32 byte) key, a 96-bit (12 byte) IV, and a message, and outputs the corresponding ciphertext as a bytestring.\n",
    "\n",
    "Note: In the course notes, it specifies that the IV is included as the first block of the ciphertext. We don't do that here for the same reasons as noted above for CBC mode."
   ]
  },
  {
   "cell_type": "code",
   "execution_count": null,
   "id": "d356a099-1ba7-46ed-b9d3-a2520a776964",
   "metadata": {},
   "outputs": [],
   "source": [
    "def CTR_mode(key, iv, padded_data): \n",
    "    ct = b''\n",
    "    counter = b'0000'\n",
    "    for i in range(0, len(padded_data), 16):\n",
    "        x = AES_encrypt_one_block(key, iv+counter)\n",
    "        input_block = padded_data[i:i+16]\n",
    "        ct += bytes(x[j] ^ input_block[j] for j in range(0, 16))\n",
    "    return ct"
   ]
  },
  {
   "cell_type": "markdown",
   "id": "24fcb1d4-f4f8-41f8-bd62-247e480c3d46",
   "metadata": {},
   "source": [
    "## Initialization vectors\n",
    "\n",
    "Here are the initialization vectors that were used for each of your images:"
   ]
  },
  {
   "cell_type": "code",
   "execution_count": null,
   "id": "97496a8c-785d-45e9-acb4-6a25d031fdc7",
   "metadata": {},
   "outputs": [],
   "source": [
    "iv_cbc = bytes.fromhex('9ff981babbdecfbd07091956062cf66f')\n",
    "iv_ofb = bytes.fromhex('a90f5741ade0a3fa3d74d935790c7538')\n",
    "iv_ctr = bytes.fromhex('c48f7a0d7bf9e7a03147db84')"
   ]
  },
  {
   "cell_type": "markdown",
   "id": "f91013c8-840d-4688-892f-cbcd699b5186",
   "metadata": {},
   "source": [
    "## Your workspace for decryption\n",
    "\n",
    "If you choose to decrypt any of the images, you can use the following code template, filling in the portions written in all caps (and writing the decryption function). If you do this, please submit your decryption function, as well as the resulting image, to Crowdmark as part of your justification as to why one of the given images is/isn't the encryption of a penguin."
   ]
  },
  {
   "cell_type": "code",
   "execution_count": null,
   "id": "a3315c5c-9d2e-4729-b76e-6f20a4a321c5",
   "metadata": {},
   "outputs": [],
   "source": [
    "(header1, header2, header3, image) = read_in_image(\"IMAGE_TO_DECRYPT.ppm\")\n",
    "\n",
    "padded_image = YOUR_DECRYPTION_FUNCTION(key, INSERT_IV_HERE, image)\n",
    "\n",
    "pt = remove_padding(padded_image)\n",
    "\n",
    "write_ppm_file(\"DECRYPTED_IMAGE.ppm\", header1, header2, header3, pt)\n",
    "display_image(\"DECRYPTED_IMAGE.ppm\")"
   ]
  }
 ],
 "metadata": {
  "kernelspec": {
   "display_name": "Python 3",
   "language": "python",
   "name": "python3"
  },
  "language_info": {
   "codemirror_mode": {
    "name": "ipython",
    "version": 3
   },
   "file_extension": ".py",
   "mimetype": "text/x-python",
   "name": "python",
   "nbconvert_exporter": "python",
   "pygments_lexer": "ipython3",
   "version": "3.10.4"
  }
 },
 "nbformat": 4,
 "nbformat_minor": 5
}
