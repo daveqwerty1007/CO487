{
 "cells": [
  {
   "cell_type": "code",
   "execution_count": 1,
   "metadata": {},
   "outputs": [],
   "source": [
    "from datetime import datetime\n",
    "import json\n",
    "from cryptography.hazmat.primitives.asymmetric import ec\n",
    "from cryptography.hazmat.primitives import hashes\n",
    "from cryptography.hazmat.primitives.asymmetric.utils import encode_dss_signature\n",
    "from cryptography.hazmat.primitives import serialization\n"
   ]
  },
  {
   "cell_type": "code",
   "execution_count": 2,
   "id": "5079eda4",
   "metadata": {},
   "outputs": [],
   "source": [
    "# Helper function for converting strings into byte arrays needed by cryptographic functions\n",
    "def string_to_bytes(s):\n",
    "    return s.encode('utf-8')\n",
    "\n",
    "# This function will ensure that we represent the JSON dictionary as exactly the\n",
    "# same string every time, otherwise we'd get different hashes while signing\n",
    "def canonicalize_json(j):\n",
    "    return json.dumps(j, sort_keys=True)\n",
    "\n",
    "def verify(ca_identity, signed_message_filename): \n",
    "    print(\"Trying to verify \" + signed_message_filename)\n",
    "\n",
    "    # Load the signed message data\n",
    "    with open(signed_message_filename, 'r') as fh:\n",
    "        signed_message = json.load(fh)\n",
    "\n",
    "    # Read out the identity of the signer and load their certificate\n",
    "    signer_identity = signed_message['signer identity']\n",
    "    with open(signer_identity + '.cert', 'r') as fh:\n",
    "        signer_cert = json.load(fh)\n",
    "    \n",
    "    # Format the certificate body for signing as a byte array in a canonical order\n",
    "    cert_body_to_be_signed = string_to_bytes(canonicalize_json(signer_cert[\"body\"]))\n",
    "\n",
    "    # Read out the identity of the issuer and load their public key\n",
    "    issuer_identity = signer_cert['body']['issuer identity']\n",
    "    signer_pk = serialization.load_pem_public_key(string_to_bytes(signer_cert['body']['public key']))\n",
    "    with open(ca_identity + '.pk', 'r') as fh:\n",
    "        ca_public_key = serialization.load_pem_public_key(string_to_bytes(fh.read()))\n",
    "\n",
    "    # Validate the certificate signature\n",
    "    cert_signature = signer_cert[\"signature\"]\n",
    "    encoded_cert_signature = encode_dss_signature(cert_signature['r'], cert_signature['s'])\n",
    "    ca_public_key.verify(\n",
    "        encoded_cert_signature,\n",
    "        cert_body_to_be_signed,\n",
    "        ec.ECDSA(hashes.SHA256())\n",
    "    )\n",
    "\n",
    "    # Check certificate validity\n",
    "    validity_start = datetime.fromisoformat(signer_cert[\"body\"][\"validity start\"])\n",
    "    validity_end = datetime.fromisoformat(signer_cert[\"body\"][\"validity end\"])\n",
    "    if not (validity_start <= datetime.now() <= validity_end):\n",
    "        print(\"Certificate is not valid.\")\n",
    "        return False\n",
    "\n",
    "    # Validate the message signature\n",
    "    message_signature = signed_message[\"signature\"]\n",
    "    encoded_message_signature = encode_dss_signature(message_signature['r'], message_signature['s'])\n",
    "    signer_pk.verify(\n",
    "        encoded_message_signature,\n",
    "        string_to_bytes(signed_message['message']),\n",
    "        ec.ECDSA(hashes.SHA256())\n",
    "    )\n",
    "    print(\"Message is valid!\")\n",
    "    return True\n"
   ]
  },
  {
   "cell_type": "code",
   "execution_count": 3,
   "id": "c6aa7ccb",
   "metadata": {},
   "outputs": [
    {
     "name": "stdout",
     "output_type": "stream",
     "text": [
      "Trying to verify message1.signed.txt\n"
     ]
    },
    {
     "ename": "FileNotFoundError",
     "evalue": "[Errno 2] No such file or directory: 'message1.signed.txt'",
     "output_type": "error",
     "traceback": [
      "\u001b[1;31m---------------------------------------------------------------------------\u001b[0m",
      "\u001b[1;31mFileNotFoundError\u001b[0m                         Traceback (most recent call last)",
      "Cell \u001b[1;32mIn[3], line 2\u001b[0m\n\u001b[0;32m      1\u001b[0m \u001b[38;5;66;03m# Verify all signed messages\u001b[39;00m\n\u001b[1;32m----> 2\u001b[0m \u001b[43mverify\u001b[49m\u001b[43m(\u001b[49m\u001b[38;5;124;43m\"\u001b[39;49m\u001b[38;5;124;43mdstebila\u001b[39;49m\u001b[38;5;124;43m\"\u001b[39;49m\u001b[43m,\u001b[49m\u001b[43m \u001b[49m\u001b[38;5;124;43m\"\u001b[39;49m\u001b[38;5;124;43mmessage1.signed.txt\u001b[39;49m\u001b[38;5;124;43m\"\u001b[39;49m\u001b[43m)\u001b[49m\n\u001b[0;32m      3\u001b[0m verify(\u001b[38;5;124m\"\u001b[39m\u001b[38;5;124mdstebila\u001b[39m\u001b[38;5;124m\"\u001b[39m, \u001b[38;5;124m\"\u001b[39m\u001b[38;5;124mmessage2.signed.txt\u001b[39m\u001b[38;5;124m\"\u001b[39m)\n\u001b[0;32m      4\u001b[0m verify(\u001b[38;5;124m\"\u001b[39m\u001b[38;5;124mdstebila\u001b[39m\u001b[38;5;124m\"\u001b[39m, \u001b[38;5;124m\"\u001b[39m\u001b[38;5;124mmessage3.signed.txt\u001b[39m\u001b[38;5;124m\"\u001b[39m)\n",
      "Cell \u001b[1;32mIn[2], line 14\u001b[0m, in \u001b[0;36mverify\u001b[1;34m(ca_identity, signed_message_filename)\u001b[0m\n\u001b[0;32m     11\u001b[0m \u001b[38;5;28mprint\u001b[39m(\u001b[38;5;124m\"\u001b[39m\u001b[38;5;124mTrying to verify \u001b[39m\u001b[38;5;124m\"\u001b[39m \u001b[38;5;241m+\u001b[39m signed_message_filename)\n\u001b[0;32m     13\u001b[0m \u001b[38;5;66;03m# Load the signed message data\u001b[39;00m\n\u001b[1;32m---> 14\u001b[0m \u001b[38;5;28;01mwith\u001b[39;00m \u001b[38;5;28;43mopen\u001b[39;49m\u001b[43m(\u001b[49m\u001b[43msigned_message_filename\u001b[49m\u001b[43m,\u001b[49m\u001b[43m \u001b[49m\u001b[38;5;124;43m'\u001b[39;49m\u001b[38;5;124;43mr\u001b[39;49m\u001b[38;5;124;43m'\u001b[39;49m\u001b[43m)\u001b[49m \u001b[38;5;28;01mas\u001b[39;00m fh:\n\u001b[0;32m     15\u001b[0m     signed_message \u001b[38;5;241m=\u001b[39m json\u001b[38;5;241m.\u001b[39mload(fh)\n\u001b[0;32m     17\u001b[0m \u001b[38;5;66;03m# Read out the identity of the signer and load their certificate\u001b[39;00m\n",
      "File \u001b[1;32m~\\AppData\\Local\\Packages\\PythonSoftwareFoundation.Python.3.11_qbz5n2kfra8p0\\LocalCache\\local-packages\\Python311\\site-packages\\IPython\\core\\interactiveshell.py:324\u001b[0m, in \u001b[0;36m_modified_open\u001b[1;34m(file, *args, **kwargs)\u001b[0m\n\u001b[0;32m    317\u001b[0m \u001b[38;5;28;01mif\u001b[39;00m file \u001b[38;5;129;01min\u001b[39;00m {\u001b[38;5;241m0\u001b[39m, \u001b[38;5;241m1\u001b[39m, \u001b[38;5;241m2\u001b[39m}:\n\u001b[0;32m    318\u001b[0m     \u001b[38;5;28;01mraise\u001b[39;00m \u001b[38;5;167;01mValueError\u001b[39;00m(\n\u001b[0;32m    319\u001b[0m         \u001b[38;5;124mf\u001b[39m\u001b[38;5;124m\"\u001b[39m\u001b[38;5;124mIPython won\u001b[39m\u001b[38;5;124m'\u001b[39m\u001b[38;5;124mt let you open fd=\u001b[39m\u001b[38;5;132;01m{\u001b[39;00mfile\u001b[38;5;132;01m}\u001b[39;00m\u001b[38;5;124m by default \u001b[39m\u001b[38;5;124m\"\u001b[39m\n\u001b[0;32m    320\u001b[0m         \u001b[38;5;124m\"\u001b[39m\u001b[38;5;124mas it is likely to crash IPython. If you know what you are doing, \u001b[39m\u001b[38;5;124m\"\u001b[39m\n\u001b[0;32m    321\u001b[0m         \u001b[38;5;124m\"\u001b[39m\u001b[38;5;124myou can use builtins\u001b[39m\u001b[38;5;124m'\u001b[39m\u001b[38;5;124m open.\u001b[39m\u001b[38;5;124m\"\u001b[39m\n\u001b[0;32m    322\u001b[0m     )\n\u001b[1;32m--> 324\u001b[0m \u001b[38;5;28;01mreturn\u001b[39;00m \u001b[43mio_open\u001b[49m\u001b[43m(\u001b[49m\u001b[43mfile\u001b[49m\u001b[43m,\u001b[49m\u001b[43m \u001b[49m\u001b[38;5;241;43m*\u001b[39;49m\u001b[43margs\u001b[49m\u001b[43m,\u001b[49m\u001b[43m \u001b[49m\u001b[38;5;241;43m*\u001b[39;49m\u001b[38;5;241;43m*\u001b[39;49m\u001b[43mkwargs\u001b[49m\u001b[43m)\u001b[49m\n",
      "\u001b[1;31mFileNotFoundError\u001b[0m: [Errno 2] No such file or directory: 'message1.signed.txt'"
     ]
    }
   ],
   "source": [
    "# Verify all signed messages\n",
    "verify(\"dstebila\", \"message1.signed.txt\")\n",
    "verify(\"dstebila\", \"message2.signed.txt\")\n",
    "verify(\"dstebila\", \"message3.signed.txt\")\n",
    "verify(\"dstebila\", \"message4.signed.txt\")\n",
    "verify(\"dstebila\", \"message5.signed.txt\")\n",
    "verify(\"dstebila\", \"message6.signed.txt\")"
   ]
  }
 ],
 "metadata": {
  "kernelspec": {
   "display_name": "Python 3",
   "language": "python",
   "name": "python3"
  },
  "language_info": {
   "codemirror_mode": {
    "name": "ipython",
    "version": 3
   },
   "file_extension": ".py",
   "mimetype": "text/x-python",
   "name": "python",
   "nbconvert_exporter": "python",
   "pygments_lexer": "ipython3",
   "version": "3.11.9"
  }
 },
 "nbformat": 4,
 "nbformat_minor": 5
}
