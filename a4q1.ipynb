{
 "cells": [
  {
   "cell_type": "code",
   "execution_count": 1,
   "metadata": {},
   "outputs": [],
   "source": [
    "import base64\n",
    "import datetime\n",
    "import json\n",
    "import math\n",
    "import random\n",
    "from cryptography.hazmat.primitives import padding\n",
    "from cryptography.hazmat.primitives.ciphers import Cipher, algorithms, modes\n",
    "from sympy import mod_inverse\n",
    "from sympy.ntheory import isprime, nextprime"
   ]
  },
  {
   "cell_type": "code",
   "execution_count": null,
   "metadata": {},
   "outputs": [],
   "source": [
    "# Extract RSA keys\n",
    "with open('encrypted_assignment.json.txt', 'r') as file:\n",
    "    data = json.load(file)\n",
    "\n",
    "n = data[\"n\"]\n",
    "e = data[\"e\"]\n",
    "c_1 = data[\"c_1\"]\n",
    "c_2 = data[\"c_2\"]"
   ]
  },
  {
   "cell_type": "code",
   "execution_count": null,
   "metadata": {},
   "outputs": [],
   "source": [
    "from sympy import factorint, mod_inverse\n",
    "\n",
    "\n",
    "factors = factorint(n) # Factorized n and compute p, q\n",
    "p, q = list(factors.keys())\n",
    "\n",
    "phi_n = (p - 1) * (q - 1)\n",
    "\n",
    "d = mod_inverse(e, phi_n)"
   ]
  },
  {
   "cell_type": "code",
   "execution_count": null,
   "metadata": {},
   "outputs": [],
   "source": [
    "# Decrypt AES key\n",
    "aes_key_int = pow(c_1, d, n)\n",
    "aes_key = aes_key_int.to_bytes(16, byteorder='big')\n",
    "\n",
    "cipher = Cipher(algorithms.AES(aes_key), modes.ECB()).decryptor()\n",
    "padded_plaintext = cipher.update(base64.urlsafe_b64decode(c_2)) + cipher.finalize()"
   ]
  },
  {
   "cell_type": "code",
   "execution_count": null,
   "metadata": {},
   "outputs": [],
   "source": [
    "# Reomove the padding in the file\n",
    "unpadder = padding.PKCS7(128).unpadder()\n",
    "plaintext = unpadder.update(padded_plaintext) + unpadder.finalize()\n",
    "\n",
    "with open(\"decrypted_assignment.pdf\", 'wb') as file:\n",
    "    file.write(plaintext)"
   ]
  }
 ],
 "metadata": {
  "kernelspec": {
   "display_name": "Python 3",
   "language": "python",
   "name": "python3"
  },
  "language_info": {
   "codemirror_mode": {
    "name": "ipython",
    "version": 3
   },
   "file_extension": ".py",
   "mimetype": "text/x-python",
   "name": "python",
   "nbconvert_exporter": "python",
   "pygments_lexer": "ipython3",
   "version": "3.11.9"
  }
 },
 "nbformat": 4,
 "nbformat_minor": 2
}
