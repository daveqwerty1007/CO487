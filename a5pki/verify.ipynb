{
 "cells": [
  {
   "cell_type": "code",
   "execution_count": null,
   "id": "723216f8",
   "metadata": {},
   "outputs": [],
   "source": [
    "from datetime import datetime\n",
    "import json\n",
    "from cryptography.hazmat.primitives.asymmetric import ec\n",
    "from cryptography.hazmat.primitives import hashes\n",
    "from cryptography.hazmat.primitives.asymmetric.utils import encode_dss_signature\n",
    "from cryptography.hazmat.primitives import serialization\n",
    "\n",
    "# Helper function for converting strings into byte arrays needed by cryptographic functions\n",
    "def string_to_bytes(s):\n",
    "    return s.encode('utf-8')\n",
    "\n",
    "# This function will ensure that we represent the JSON dictionary as exactly the\n",
    "# same string every time, otherwise we'd get different hashes while signing\n",
    "def canonicalize_json(j):\n",
    "    return json.dumps(j, sort_keys=True)\n",
    "\n",
    "def verify(ca_identity, signed_message_filename): \n",
    "    print(\"Trying to verify \" + signed_message_filename)\n",
    "\n",
    "    # Load the signed message data\n",
    "    with open(signed_message_filename, 'r') as fh:\n",
    "        signed_message = json.load(fh)\n",
    "\n",
    "    # Read out the identity of the signer and load their certificate\n",
    "    signer_identity = signed_message['signer identity']\n",
    "    with open(signer_identity + '.cert', 'r') as fh:\n",
    "        signer_cert = json.load(fh)\n",
    "    \n",
    "    # Format the certificate body for signing as a byte array in a canonical order\n",
    "    cert_body_to_be_signed = string_to_bytes(canonicalize_json(signer_cert[\"body\"]))\n",
    "\n",
    "    # Read out the identity of the issuer and load their public key\n",
    "    issuer_identity = signer_cert['body']['issuer identity']\n",
    "    signer_pk = serialization.load_pem_public_key(string_to_bytes(signer_cert['body']['public key']))\n",
    "    with open(ca_identity + '.pk', 'r') as fh:\n",
    "        ca_public_key = serialization.load_pem_public_key(string_to_bytes(fh.read()))\n",
    "\n",
    "    # YOUR SOLUTION STARTS HERE\n",
    "\n",
    "    # Functions that might be of use to you:\n",
    "    # - datetime.fromisoformat (https://docs.python.org/3/library/datetime.html#datetime.date.fromisoformat)\n",
    "    # - datetime.now\n",
    "    # - encode_dss_signature (https://cryptography.io/en/latest/hazmat/primitives/asymmetric/utils/#cryptography.hazmat.primitives.asymmetric.utils.encode_dss_signature)\n",
    "    # - ca_public_key.verify and signer_pk.verify (see https://cryptography.io/en/latest/hazmat/primitives/asymmetric/ec/#elliptic-curve-signature-algorithms)\n",
    "\n",
    "    cert_signature = signer_cert[\"signature\"]\n",
    "    encoded_cert_signature = encode_dss_signature(cert_signature['r'], cert_signature['s'])\n",
    "    ca_public_key.verify(\n",
    "        encoded_cert_signature,\n",
    "        cert_body_to_be_signed,\n",
    "        ec.ECDSA(hashes.SHA256())\n",
    "    )\n",
    "\n",
    "    validity_start = datetime.fromisoformat(signer_cert[\"body\"][\"validity start\"])\n",
    "    validity_end = datetime.fromisoformat(signer_cert[\"body\"][\"validity end\"])\n",
    "    if not (validity_start <= datetime.now() <= validity_end):\n",
    "        print(\"Certificate is not valid.\")\n",
    "        return False\n",
    "\n",
    "    message_signature = signed_message[\"signature\"]\n",
    "    encoded_message_signature = encode_dss_signature(message_signature['r'], message_signature['s'])\n",
    "    signer_pk.verify(\n",
    "        encoded_message_signature,\n",
    "        string_to_bytes(signed_message['message']),\n",
    "        ec.ECDSA(hashes.SHA256())\n",
    "    )\n",
    "    print(\"Message is valid!\")\n",
    "    return True\n"
   ]
  },
  {
   "cell_type": "code",
   "execution_count": null,
   "id": "dd568022",
   "metadata": {},
   "outputs": [
    {
     "name": "stdout",
     "output_type": "stream",
     "text": [
      "Trying to verify message1.signed.txt\n"
     ]
    },
    {
     "ename": "InvalidSignature",
     "evalue": "",
     "output_type": "error",
     "traceback": [
      "\u001b[1;31m---------------------------------------------------------------------------\u001b[0m",
      "\u001b[1;31mInvalidSignature\u001b[0m                          Traceback (most recent call last)",
      "Cell \u001b[1;32mIn[2], line 2\u001b[0m\n\u001b[0;32m      1\u001b[0m \u001b[38;5;66;03m# Verify all signed messages\u001b[39;00m\n\u001b[1;32m----> 2\u001b[0m \u001b[43mverify\u001b[49m\u001b[43m(\u001b[49m\u001b[38;5;124;43m\"\u001b[39;49m\u001b[38;5;124;43mdstebila\u001b[39;49m\u001b[38;5;124;43m\"\u001b[39;49m\u001b[43m,\u001b[49m\u001b[43m \u001b[49m\u001b[38;5;124;43m\"\u001b[39;49m\u001b[38;5;124;43mmessage1.signed.txt\u001b[39;49m\u001b[38;5;124;43m\"\u001b[39;49m\u001b[43m)\u001b[49m\n\u001b[0;32m      3\u001b[0m verify(\u001b[38;5;124m\"\u001b[39m\u001b[38;5;124mdstebila\u001b[39m\u001b[38;5;124m\"\u001b[39m, \u001b[38;5;124m\"\u001b[39m\u001b[38;5;124mmessage2.signed.txt\u001b[39m\u001b[38;5;124m\"\u001b[39m)\n\u001b[0;32m      4\u001b[0m verify(\u001b[38;5;124m\"\u001b[39m\u001b[38;5;124mdstebila\u001b[39m\u001b[38;5;124m\"\u001b[39m, \u001b[38;5;124m\"\u001b[39m\u001b[38;5;124mmessage3.signed.txt\u001b[39m\u001b[38;5;124m\"\u001b[39m)\n",
      "Cell \u001b[1;32mIn[1], line 41\u001b[0m, in \u001b[0;36mverify\u001b[1;34m(ca_identity, signed_message_filename)\u001b[0m\n\u001b[0;32m     39\u001b[0m cert_signature \u001b[38;5;241m=\u001b[39m signer_cert[\u001b[38;5;124m\"\u001b[39m\u001b[38;5;124msignature\u001b[39m\u001b[38;5;124m\"\u001b[39m]\n\u001b[0;32m     40\u001b[0m encoded_cert_signature \u001b[38;5;241m=\u001b[39m encode_dss_signature(cert_signature[\u001b[38;5;124m'\u001b[39m\u001b[38;5;124mr\u001b[39m\u001b[38;5;124m'\u001b[39m], cert_signature[\u001b[38;5;124m'\u001b[39m\u001b[38;5;124ms\u001b[39m\u001b[38;5;124m'\u001b[39m])\n\u001b[1;32m---> 41\u001b[0m \u001b[43mca_public_key\u001b[49m\u001b[38;5;241;43m.\u001b[39;49m\u001b[43mverify\u001b[49m\u001b[43m(\u001b[49m\n\u001b[0;32m     42\u001b[0m \u001b[43m    \u001b[49m\u001b[43mencoded_cert_signature\u001b[49m\u001b[43m,\u001b[49m\n\u001b[0;32m     43\u001b[0m \u001b[43m    \u001b[49m\u001b[43mcert_body_to_be_signed\u001b[49m\u001b[43m,\u001b[49m\n\u001b[0;32m     44\u001b[0m \u001b[43m    \u001b[49m\u001b[43mec\u001b[49m\u001b[38;5;241;43m.\u001b[39;49m\u001b[43mECDSA\u001b[49m\u001b[43m(\u001b[49m\u001b[43mhashes\u001b[49m\u001b[38;5;241;43m.\u001b[39;49m\u001b[43mSHA256\u001b[49m\u001b[43m(\u001b[49m\u001b[43m)\u001b[49m\u001b[43m)\u001b[49m\n\u001b[0;32m     45\u001b[0m \u001b[43m\u001b[49m\u001b[43m)\u001b[49m\n\u001b[0;32m     47\u001b[0m \u001b[38;5;66;03m# Check certificate validity\u001b[39;00m\n\u001b[0;32m     48\u001b[0m validity_start \u001b[38;5;241m=\u001b[39m datetime\u001b[38;5;241m.\u001b[39mfromisoformat(signer_cert[\u001b[38;5;124m\"\u001b[39m\u001b[38;5;124mbody\u001b[39m\u001b[38;5;124m\"\u001b[39m][\u001b[38;5;124m\"\u001b[39m\u001b[38;5;124mvalidity start\u001b[39m\u001b[38;5;124m\"\u001b[39m])\n",
      "\u001b[1;31mInvalidSignature\u001b[0m: "
     ]
    }
   ],
   "source": [
    "# Verify all signed messages\n",
    "verify(\"dstebila\", \"message1.signed.txt\")"
   ]
  },
  {
   "cell_type": "code",
   "execution_count": 3,
   "id": "afad979f",
   "metadata": {},
   "outputs": [
    {
     "name": "stdout",
     "output_type": "stream",
     "text": [
      "Trying to verify message2.signed.txt\n"
     ]
    },
    {
     "ename": "InvalidSignature",
     "evalue": "",
     "output_type": "error",
     "traceback": [
      "\u001b[1;31m---------------------------------------------------------------------------\u001b[0m",
      "\u001b[1;31mInvalidSignature\u001b[0m                          Traceback (most recent call last)",
      "Cell \u001b[1;32mIn[3], line 1\u001b[0m\n\u001b[1;32m----> 1\u001b[0m \u001b[43mverify\u001b[49m\u001b[43m(\u001b[49m\u001b[38;5;124;43m\"\u001b[39;49m\u001b[38;5;124;43mdstebila\u001b[39;49m\u001b[38;5;124;43m\"\u001b[39;49m\u001b[43m,\u001b[49m\u001b[43m \u001b[49m\u001b[38;5;124;43m\"\u001b[39;49m\u001b[38;5;124;43mmessage2.signed.txt\u001b[39;49m\u001b[38;5;124;43m\"\u001b[39;49m\u001b[43m)\u001b[49m\n",
      "Cell \u001b[1;32mIn[1], line 57\u001b[0m, in \u001b[0;36mverify\u001b[1;34m(ca_identity, signed_message_filename)\u001b[0m\n\u001b[0;32m     55\u001b[0m message_signature \u001b[38;5;241m=\u001b[39m signed_message[\u001b[38;5;124m\"\u001b[39m\u001b[38;5;124msignature\u001b[39m\u001b[38;5;124m\"\u001b[39m]\n\u001b[0;32m     56\u001b[0m encoded_message_signature \u001b[38;5;241m=\u001b[39m encode_dss_signature(message_signature[\u001b[38;5;124m'\u001b[39m\u001b[38;5;124mr\u001b[39m\u001b[38;5;124m'\u001b[39m], message_signature[\u001b[38;5;124m'\u001b[39m\u001b[38;5;124ms\u001b[39m\u001b[38;5;124m'\u001b[39m])\n\u001b[1;32m---> 57\u001b[0m \u001b[43msigner_pk\u001b[49m\u001b[38;5;241;43m.\u001b[39;49m\u001b[43mverify\u001b[49m\u001b[43m(\u001b[49m\n\u001b[0;32m     58\u001b[0m \u001b[43m    \u001b[49m\u001b[43mencoded_message_signature\u001b[49m\u001b[43m,\u001b[49m\n\u001b[0;32m     59\u001b[0m \u001b[43m    \u001b[49m\u001b[43mstring_to_bytes\u001b[49m\u001b[43m(\u001b[49m\u001b[43msigned_message\u001b[49m\u001b[43m[\u001b[49m\u001b[38;5;124;43m'\u001b[39;49m\u001b[38;5;124;43mmessage\u001b[39;49m\u001b[38;5;124;43m'\u001b[39;49m\u001b[43m]\u001b[49m\u001b[43m)\u001b[49m\u001b[43m,\u001b[49m\n\u001b[0;32m     60\u001b[0m \u001b[43m    \u001b[49m\u001b[43mec\u001b[49m\u001b[38;5;241;43m.\u001b[39;49m\u001b[43mECDSA\u001b[49m\u001b[43m(\u001b[49m\u001b[43mhashes\u001b[49m\u001b[38;5;241;43m.\u001b[39;49m\u001b[43mSHA256\u001b[49m\u001b[43m(\u001b[49m\u001b[43m)\u001b[49m\u001b[43m)\u001b[49m\n\u001b[0;32m     61\u001b[0m \u001b[43m\u001b[49m\u001b[43m)\u001b[49m\n\u001b[0;32m     62\u001b[0m \u001b[38;5;28mprint\u001b[39m(\u001b[38;5;124m\"\u001b[39m\u001b[38;5;124mMessage is valid!\u001b[39m\u001b[38;5;124m\"\u001b[39m)\n\u001b[0;32m     63\u001b[0m \u001b[38;5;28;01mreturn\u001b[39;00m \u001b[38;5;28;01mTrue\u001b[39;00m\n",
      "\u001b[1;31mInvalidSignature\u001b[0m: "
     ]
    }
   ],
   "source": [
    "verify(\"dstebila\", \"message2.signed.txt\")\n"
   ]
  },
  {
   "cell_type": "code",
   "execution_count": 4,
   "id": "06cfd0a9",
   "metadata": {},
   "outputs": [
    {
     "name": "stdout",
     "output_type": "stream",
     "text": [
      "Trying to verify message3.signed.txt\n"
     ]
    },
    {
     "ename": "InvalidSignature",
     "evalue": "",
     "output_type": "error",
     "traceback": [
      "\u001b[1;31m---------------------------------------------------------------------------\u001b[0m",
      "\u001b[1;31mInvalidSignature\u001b[0m                          Traceback (most recent call last)",
      "Cell \u001b[1;32mIn[4], line 1\u001b[0m\n\u001b[1;32m----> 1\u001b[0m \u001b[43mverify\u001b[49m\u001b[43m(\u001b[49m\u001b[38;5;124;43m\"\u001b[39;49m\u001b[38;5;124;43mdstebila\u001b[39;49m\u001b[38;5;124;43m\"\u001b[39;49m\u001b[43m,\u001b[49m\u001b[43m \u001b[49m\u001b[38;5;124;43m\"\u001b[39;49m\u001b[38;5;124;43mmessage3.signed.txt\u001b[39;49m\u001b[38;5;124;43m\"\u001b[39;49m\u001b[43m)\u001b[49m\n",
      "Cell \u001b[1;32mIn[1], line 41\u001b[0m, in \u001b[0;36mverify\u001b[1;34m(ca_identity, signed_message_filename)\u001b[0m\n\u001b[0;32m     39\u001b[0m cert_signature \u001b[38;5;241m=\u001b[39m signer_cert[\u001b[38;5;124m\"\u001b[39m\u001b[38;5;124msignature\u001b[39m\u001b[38;5;124m\"\u001b[39m]\n\u001b[0;32m     40\u001b[0m encoded_cert_signature \u001b[38;5;241m=\u001b[39m encode_dss_signature(cert_signature[\u001b[38;5;124m'\u001b[39m\u001b[38;5;124mr\u001b[39m\u001b[38;5;124m'\u001b[39m], cert_signature[\u001b[38;5;124m'\u001b[39m\u001b[38;5;124ms\u001b[39m\u001b[38;5;124m'\u001b[39m])\n\u001b[1;32m---> 41\u001b[0m \u001b[43mca_public_key\u001b[49m\u001b[38;5;241;43m.\u001b[39;49m\u001b[43mverify\u001b[49m\u001b[43m(\u001b[49m\n\u001b[0;32m     42\u001b[0m \u001b[43m    \u001b[49m\u001b[43mencoded_cert_signature\u001b[49m\u001b[43m,\u001b[49m\n\u001b[0;32m     43\u001b[0m \u001b[43m    \u001b[49m\u001b[43mcert_body_to_be_signed\u001b[49m\u001b[43m,\u001b[49m\n\u001b[0;32m     44\u001b[0m \u001b[43m    \u001b[49m\u001b[43mec\u001b[49m\u001b[38;5;241;43m.\u001b[39;49m\u001b[43mECDSA\u001b[49m\u001b[43m(\u001b[49m\u001b[43mhashes\u001b[49m\u001b[38;5;241;43m.\u001b[39;49m\u001b[43mSHA256\u001b[49m\u001b[43m(\u001b[49m\u001b[43m)\u001b[49m\u001b[43m)\u001b[49m\n\u001b[0;32m     45\u001b[0m \u001b[43m\u001b[49m\u001b[43m)\u001b[49m\n\u001b[0;32m     47\u001b[0m \u001b[38;5;66;03m# Check certificate validity\u001b[39;00m\n\u001b[0;32m     48\u001b[0m validity_start \u001b[38;5;241m=\u001b[39m datetime\u001b[38;5;241m.\u001b[39mfromisoformat(signer_cert[\u001b[38;5;124m\"\u001b[39m\u001b[38;5;124mbody\u001b[39m\u001b[38;5;124m\"\u001b[39m][\u001b[38;5;124m\"\u001b[39m\u001b[38;5;124mvalidity start\u001b[39m\u001b[38;5;124m\"\u001b[39m])\n",
      "\u001b[1;31mInvalidSignature\u001b[0m: "
     ]
    }
   ],
   "source": [
    "verify(\"dstebila\", \"message3.signed.txt\")\n"
   ]
  },
  {
   "cell_type": "code",
   "execution_count": 5,
   "id": "fa5d5992",
   "metadata": {},
   "outputs": [
    {
     "name": "stdout",
     "output_type": "stream",
     "text": [
      "Trying to verify message4.signed.txt\n",
      "Certificate is not valid.\n"
     ]
    },
    {
     "data": {
      "text/plain": [
       "False"
      ]
     },
     "execution_count": 5,
     "metadata": {},
     "output_type": "execute_result"
    }
   ],
   "source": [
    "verify(\"dstebila\", \"message4.signed.txt\")\n"
   ]
  },
  {
   "cell_type": "code",
   "execution_count": 6,
   "id": "35c9eec7",
   "metadata": {},
   "outputs": [
    {
     "name": "stdout",
     "output_type": "stream",
     "text": [
      "Trying to verify message5.signed.txt\n",
      "Message is valid!\n"
     ]
    },
    {
     "data": {
      "text/plain": [
       "True"
      ]
     },
     "execution_count": 6,
     "metadata": {},
     "output_type": "execute_result"
    }
   ],
   "source": [
    "verify(\"dstebila\", \"message5.signed.txt\")"
   ]
  },
  {
   "cell_type": "code",
   "execution_count": 7,
   "id": "fc4c3525",
   "metadata": {},
   "outputs": [
    {
     "name": "stdout",
     "output_type": "stream",
     "text": [
      "Trying to verify message6.signed.txt\n",
      "Message is valid!\n"
     ]
    },
    {
     "data": {
      "text/plain": [
       "True"
      ]
     },
     "execution_count": 7,
     "metadata": {},
     "output_type": "execute_result"
    }
   ],
   "source": [
    "verify(\"dstebila\", \"message6.signed.txt\")\n"
   ]
  }
 ],
 "metadata": {
  "kernelspec": {
   "display_name": "Python 3",
   "language": "python",
   "name": "python3"
  },
  "language_info": {
   "codemirror_mode": {
    "name": "ipython",
    "version": 3
   },
   "file_extension": ".py",
   "mimetype": "text/x-python",
   "name": "python",
   "nbconvert_exporter": "python",
   "pygments_lexer": "ipython3",
   "version": "3.11.9"
  }
 },
 "nbformat": 4,
 "nbformat_minor": 5
}
