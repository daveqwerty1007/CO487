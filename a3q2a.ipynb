{
 "cells": [
  {
   "cell_type": "code",
   "execution_count": 1,
   "metadata": {},
   "outputs": [],
   "source": [
    "import hashlib"
   ]
  },
  {
   "cell_type": "code",
   "execution_count": 2,
   "metadata": {},
   "outputs": [],
   "source": [
    "target_hash = \"d060cef6aa7b824eca5a0406ec34b5751fc187e97b0220d649b01d241c971869\"\n",
    "salt = \"91524168\""
   ]
  },
  {
   "cell_type": "code",
   "execution_count": null,
   "metadata": {},
   "outputs": [
    {
     "name": "stdout",
     "output_type": "stream",
     "text": [
      "Found password: 904821\n"
     ]
    }
   ],
   "source": [
    "for i in range(1000000):\n",
    "    password = f\"{i:06d}\"\n",
    "    combination = salt + password\n",
    "    hash_result = hashlib.sha256(combination.encode()).hexdigest()\n",
    "\n",
    "    if hash_result == target_hash:\n",
    "        print(\"Found password:\", password)\n",
    "        break"
   ]
  },
  {
   "cell_type": "markdown",
   "metadata": {},
   "source": []
  }
 ],
 "metadata": {
  "kernelspec": {
   "display_name": "Python 3",
   "language": "python",
   "name": "python3"
  },
  "language_info": {
   "codemirror_mode": {
    "name": "ipython",
    "version": 3
   },
   "file_extension": ".py",
   "mimetype": "text/x-python",
   "name": "python",
   "nbconvert_exporter": "python",
   "pygments_lexer": "ipython3",
   "version": "3.11.9"
  }
 },
 "nbformat": 4,
 "nbformat_minor": 2
}
