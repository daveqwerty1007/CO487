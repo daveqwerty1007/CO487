{
 "cells": [
  {
   "cell_type": "markdown",
   "metadata": {},
   "source": [
    "## Q1 \n",
    "\n",
    "### Part a \n",
    " \n",
    "#### i"
   ]
  },
  {
   "cell_type": "code",
   "execution_count": 1,
   "metadata": {},
   "outputs": [],
   "source": [
    "def calculate_bias(plaintexts, ciphertexts, subkey_guess):\n",
    "    count = 0\n",
    "    total_pairs = len(plaintexts)\n",
    "\n",
    "    for i in range(total_pairs):\n",
    "        plaintext = plaintexts[i]\n",
    "        ciphertext = ciphertexts[i]\n",
    "\n",
    "        u46 = (ciphertext >> 5) & 1\n",
    "        u48 = (ciphertext >> 7) & 1\n",
    "        u414 = (ciphertext >> 13) & 1\n",
    "        u416 = (ciphertext >> 15) & 1\n",
    "\n",
    "        p5 = (plaintext >> 4) & 1\n",
    "        p7 = (plaintext >> 6) & 1\n",
    "        p8 = (plaintext >> 7) & 1\n",
    "\n",
    "        linear_result = u46 ^ u48 ^ u414 ^ u416 ^ p5 ^ p7 ^ p8\n",
    "        \n",
    "        if linear_result == 0:\n",
    "            count += 1\n",
    "\n",
    "    bias = abs(count / total_pairs - 0.5)\n",
    "    return bias"
   ]
  },
  {
   "cell_type": "code",
   "execution_count": 2,
   "metadata": {},
   "outputs": [],
   "source": [
    "def read_plaintexts_and_ciphertexts(plaintext_file, ciphertext_file):\n",
    "    with open(plaintext_file, 'r') as pt_file:\n",
    "        plaintexts = [int(line.strip(), 2) for line in pt_file]\n",
    "\n",
    "    with open(ciphertext_file, 'r') as ct_file:\n",
    "        ciphertexts = [int(line.strip(), 2) for line in ct_file]\n",
    "\n",
    "    return plaintexts, ciphertexts"
   ]
  },
  {
   "cell_type": "code",
   "execution_count": 3,
   "metadata": {},
   "outputs": [
    {
     "name": "stdout",
     "output_type": "stream",
     "text": [
      "0.0022999999999999687\n"
     ]
    }
   ],
   "source": [
    "plaintext_file = 'a2q1plaintexts.txt'\n",
    "ciphertext_file = 'a2q1ciphertexts.txt'\n",
    "\n",
    "plaintexts, ciphertexts = read_plaintexts_and_ciphertexts(plaintext_file, ciphertext_file)\n",
    "\n",
    "subkey_guess = [0, 1, 1, 1, 0, 1, 1, 0]\n",
    "\n",
    "bias = calculate_bias(plaintexts, ciphertexts, subkey_guess)\n",
    "\n",
    "print(bias)"
   ]
  },
  {
   "cell_type": "markdown",
   "metadata": {},
   "source": [
    "#### ii"
   ]
  },
  {
   "cell_type": "code",
   "execution_count": null,
   "metadata": {},
   "outputs": [],
   "source": [
    "def calculate_bias_first_10(plaintexts, ciphertexts):\n",
    "    count = 0\n",
    "    for i in 10:\n",
    "        plaintext = plaintexts[i]\n",
    "        ciphertext = ciphertexts[i]\n",
    "\n",
    "        u46 = (ciphertext >> 5) & 1\n",
    "        u48 = (ciphertext >> 7) & 1\n",
    "        u414 = (ciphertext >> 13) & 1\n",
    "        u416 = (ciphertext >> 15) & 1\n",
    "        \n",
    "        p5 = (plaintext >> 4) & 1\n",
    "        p7 = (plaintext >> 6) & 1\n",
    "        p8 = (plaintext >> 7) & 1\n",
    "\n",
    "        linear_result = u46 ^ u48 ^ u414 ^ u416 ^ p5 ^ p7 ^ p8\n",
    "\n",
    "        if linear_result == 0:\n",
    "            count += 1\n"
   ]
  }
 ],
 "metadata": {
  "kernelspec": {
   "display_name": "Python 3",
   "language": "python",
   "name": "python3"
  },
  "language_info": {
   "codemirror_mode": {
    "name": "ipython",
    "version": 3
   },
   "file_extension": ".py",
   "mimetype": "text/x-python",
   "name": "python",
   "nbconvert_exporter": "python",
   "pygments_lexer": "ipython3",
   "version": "3.11.2"
  }
 },
 "nbformat": 4,
 "nbformat_minor": 2
}
