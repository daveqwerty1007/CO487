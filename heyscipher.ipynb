{
 "cells": [
  {
   "cell_type": "markdown",
   "metadata": {},
   "source": [
    "## Q1a "
   ]
  },
  {
   "cell_type": "code",
   "execution_count": 1,
   "metadata": {},
   "outputs": [],
   "source": [
    "def calculate_bias(plaintexts, ciphertexts, subkey_guess, num_pairs=None):\n",
    "    count = 0\n",
    "    total_pairs = num_pairs if num_pairs else len(plaintexts)\n",
    "\n",
    "    for i in range(total_pairs):\n",
    "        plaintext = plaintexts[i]\n",
    "        ciphertext = ciphertexts[i]\n",
    "\n",
    "        u46 = ((ciphertext >> 5) & 1) ^ subkey_guess[0]\n",
    "        u48 = ((ciphertext >> 7) & 1) ^ subkey_guess[1]\n",
    "        u414 = ((ciphertext >> 13) & 1) ^ subkey_guess[2]\n",
    "        u416 = ((ciphertext >> 15) & 1) ^ subkey_guess[3]\n",
    "\n",
    "        p5 = (plaintext >> 4) & 1\n",
    "        p7 = (plaintext >> 6) & 1\n",
    "        p8 = (plaintext >> 7) & 1\n",
    "\n",
    "        linear_result = u46 ^ u48 ^ u414 ^ u416 ^ p5 ^ p7 ^ p8\n",
    "\n",
    "        if linear_result == 0:\n",
    "            count += 1\n",
    "\n",
    "    bias = abs(count / total_pairs - 0.5)\n",
    "    return bias\n",
    "\n"
   ]
  },
  {
   "cell_type": "code",
   "execution_count": 2,
   "metadata": {},
   "outputs": [],
   "source": [
    "def read_plaintexts_and_ciphertexts(plaintext_file, ciphertext_file):\n",
    "    with open(plaintext_file, 'r') as pt_file:\n",
    "        plaintexts = [int(line.strip(), 2) for line in pt_file]\n",
    "\n",
    "    with open(ciphertext_file, 'r') as ct_file:\n",
    "        ciphertexts = [int(line.strip(), 2) for line in ct_file]\n",
    "\n",
    "    return plaintexts, ciphertexts\n",
    "\n",
    "plaintext_file = 'a2q1plaintexts.txt'\n",
    "ciphertext_file = 'a2q1ciphertexts.txt'\n",
    "\n",
    "plaintexts, ciphertexts = read_plaintexts_and_ciphertexts(plaintext_file, ciphertext_file)"
   ]
  },
  {
   "cell_type": "code",
   "execution_count": 6,
   "metadata": {},
   "outputs": [
    {
     "data": {
      "text/plain": [
       "0.0023000000000000242"
      ]
     },
     "execution_count": 6,
     "metadata": {},
     "output_type": "execute_result"
    }
   ],
   "source": [
    "subkey_guess = [0, 1, 1, 1, 0, 1, 1, 0]\n",
    "\n",
    "bias_full = calculate_bias(plaintexts, ciphertexts, subkey_guess)\n",
    "bias_full\n"
   ]
  },
  {
   "cell_type": "code",
   "execution_count": 5,
   "metadata": {},
   "outputs": [
    {
     "data": {
      "text/plain": [
       "0.2"
      ]
     },
     "execution_count": 5,
     "metadata": {},
     "output_type": "execute_result"
    }
   ],
   "source": [
    "\n",
    "bias_first_10 = calculate_bias(plaintexts, ciphertexts, subkey_guess, num_pairs=10)\n",
    "bias_first_10 # did it with calculation in the pdf, just want to double check here"
   ]
  },
  {
   "cell_type": "markdown",
   "metadata": {},
   "source": [
    "## Q1b"
   ]
  },
  {
   "cell_type": "code",
   "execution_count": 4,
   "metadata": {},
   "outputs": [
    {
     "data": {
      "text/plain": [
       "((0, 0, 0, 1, 0, 0, 0, 0), 0.0023000000000000242)"
      ]
     },
     "execution_count": 4,
     "metadata": {},
     "output_type": "execute_result"
    }
   ],
   "source": [
    "import itertools\n",
    "\n",
    "def find_best_subkey(plaintexts, ciphertexts):\n",
    "    best_subkey = None\n",
    "    max_bias = 0\n",
    "\n",
    "    # get all pairs of subkeys\n",
    "    for subkey_guess in itertools.product([0, 1], repeat=8):\n",
    "        bias = calculate_bias(plaintexts, ciphertexts, subkey_guess)\n",
    "\n",
    "        if bias > max_bias:\n",
    "            max_bias = bias\n",
    "            best_subkey = subkey_guess\n",
    "\n",
    "    return best_subkey, max_bias\n",
    "\n",
    "best_subkey, max_bias = find_best_subkey(plaintexts, ciphertexts)\n",
    "\n",
    "best_subkey, max_bias\n",
    "\n",
    "\n"
   ]
  },
  {
   "cell_type": "markdown",
   "metadata": {},
   "source": [
    "## Q1d\n"
   ]
  },
  {
   "cell_type": "code",
   "execution_count": null,
   "metadata": {},
   "outputs": [],
   "source": []
  },
  {
   "cell_type": "code",
   "execution_count": null,
   "metadata": {},
   "outputs": [],
   "source": []
  }
 ],
 "metadata": {
  "kernelspec": {
   "display_name": "Python 3",
   "language": "python",
   "name": "python3"
  },
  "language_info": {
   "codemirror_mode": {
    "name": "ipython",
    "version": 3
   },
   "file_extension": ".py",
   "mimetype": "text/x-python",
   "name": "python",
   "nbconvert_exporter": "python",
   "pygments_lexer": "ipython3",
   "version": "3.11.2"
  }
 },
 "nbformat": 4,
 "nbformat_minor": 2
}
